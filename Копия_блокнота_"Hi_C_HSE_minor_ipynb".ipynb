{
  "nbformat": 4,
  "nbformat_minor": 0,
  "metadata": {
    "colab": {
      "provenance": [],
      "include_colab_link": true
    },
    "kernelspec": {
      "name": "python3",
      "display_name": "Python 3"
    },
    "language_info": {
      "name": "python"
    }
  },
  "cells": [
    {
      "cell_type": "markdown",
      "metadata": {
        "id": "view-in-github",
        "colab_type": "text"
      },
      "source": [
        "<a href=\"https://colab.research.google.com/github/Katmalu/hse23_hw4/blob/main/%D0%9A%D0%BE%D0%BF%D0%B8%D1%8F_%D0%B1%D0%BB%D0%BE%D0%BA%D0%BD%D0%BE%D1%82%D0%B0_%22Hi_C_HSE_minor_ipynb%22.ipynb\" target=\"_parent\"><img src=\"https://colab.research.google.com/assets/colab-badge.svg\" alt=\"Open In Colab\"/></a>"
      ]
    },
    {
      "cell_type": "markdown",
      "source": [
        "Read the https://pairtools.readthedocs.io/en/latest/ and https://cooler.readthedocs.io/en/latest/index.html\n",
        "for more information"
      ],
      "metadata": {
        "id": "bT9Zmb4IWpt-"
      }
    },
    {
      "cell_type": "code",
      "source": [
        "!pip install -q condacolab\n",
        "import condacolab\n",
        "condacolab.install()\n"
      ],
      "metadata": {
        "colab": {
          "base_uri": "https://localhost:8080/"
        },
        "id": "NUHB0MTIJ65A",
        "outputId": "8ac80bec-3bd5-491c-c6fc-62baa96cb4d3"
      },
      "execution_count": 1,
      "outputs": [
        {
          "output_type": "stream",
          "name": "stdout",
          "text": [
            "⏬ Downloading https://github.com/conda-forge/miniforge/releases/download/23.1.0-1/Mambaforge-23.1.0-1-Linux-x86_64.sh...\n",
            "📦 Installing...\n",
            "📌 Adjusting configuration...\n",
            "🩹 Patching environment...\n",
            "⏲ Done in 0:00:14\n",
            "🔁 Restarting kernel...\n"
          ]
        }
      ]
    },
    {
      "cell_type": "markdown",
      "source": [
        "Homework report should include:  \n",
        "1) scaling plot in log-log coordinates with description; create correct labels for scaling plot, including units of measurement; make comments on operations in cell starting with ##!!!  \n",
        "2) replicates clusterization for all files (in directory for the lecture) with dendrogram and description;  make comments on operations in cells starting with ##!!!  "
      ],
      "metadata": {
        "id": "sOZreAWrdEMH"
      }
    },
    {
      "cell_type": "code",
      "source": [
        "%%bash \n",
        "pip install cooler\n",
        "pip install hicrep\n"
      ],
      "metadata": {
        "id": "D6J4SbLzJ8Ch",
        "colab": {
          "base_uri": "https://localhost:8080/"
        },
        "outputId": "e5441a36-5a99-4013-b4c3-38cb271ae21a"
      },
      "execution_count": 2,
      "outputs": [
        {
          "output_type": "stream",
          "name": "stdout",
          "text": [
            "Looking in indexes: https://pypi.org/simple, https://us-python.pkg.dev/colab-wheels/public/simple/\n",
            "Collecting cooler\n",
            "  Downloading cooler-0.9.1-py2.py3-none-any.whl (103 kB)\n",
            "     ━━━━━━━━━━━━━━━━━━━━━━━━━━━━━━━━━━━━━━━ 103.9/103.9 kB 2.8 MB/s eta 0:00:00\n",
            "Collecting multiprocess\n",
            "  Downloading multiprocess-0.70.14-py310-none-any.whl (134 kB)\n",
            "     ━━━━━━━━━━━━━━━━━━━━━━━━━━━━━━━━━━━━━━━ 134.3/134.3 kB 6.8 MB/s eta 0:00:00\n",
            "Collecting pyyaml\n",
            "  Downloading PyYAML-6.0-cp310-cp310-manylinux_2_5_x86_64.manylinux1_x86_64.manylinux_2_12_x86_64.manylinux2010_x86_64.whl (682 kB)\n",
            "     ━━━━━━━━━━━━━━━━━━━━━━━━━━━━━━━━━━━━━━ 682.2/682.2 kB 22.7 MB/s eta 0:00:00\n",
            "Collecting simplejson\n",
            "  Downloading simplejson-3.19.1-cp310-cp310-manylinux_2_5_x86_64.manylinux1_x86_64.manylinux_2_17_x86_64.manylinux2014_x86_64.whl (137 kB)\n",
            "     ━━━━━━━━━━━━━━━━━━━━━━━━━━━━━━━━━━━━━━━ 137.9/137.9 kB 8.7 MB/s eta 0:00:00\n",
            "Collecting asciitree\n",
            "  Downloading asciitree-0.3.3.tar.gz (4.0 kB)\n",
            "  Preparing metadata (setup.py): started\n",
            "  Preparing metadata (setup.py): finished with status 'done'\n",
            "Collecting pyfaidx\n",
            "  Downloading pyfaidx-0.7.2.1-py3-none-any.whl (28 kB)\n",
            "Collecting scipy>=0.16\n",
            "  Downloading scipy-1.10.1-cp310-cp310-manylinux_2_17_x86_64.manylinux2014_x86_64.whl (34.4 MB)\n",
            "     ━━━━━━━━━━━━━━━━━━━━━━━━━━━━━━━━━━━━━━━━ 34.4/34.4 MB 31.5 MB/s eta 0:00:00\n",
            "Collecting h5py>=2.5\n",
            "  Downloading h5py-3.8.0-cp310-cp310-manylinux_2_17_x86_64.manylinux2014_x86_64.whl (4.6 MB)\n",
            "     ━━━━━━━━━━━━━━━━━━━━━━━━━━━━━━━━━━━━━━━━ 4.6/4.6 MB 30.0 MB/s eta 0:00:00\n",
            "Collecting click>=7\n",
            "  Downloading click-8.1.3-py3-none-any.whl (96 kB)\n",
            "     ━━━━━━━━━━━━━━━━━━━━━━━━━━━━━━━━━━━━━━━━ 96.6/96.6 kB 5.5 MB/s eta 0:00:00\n",
            "Collecting pandas>1.0\n",
            "  Downloading pandas-2.0.1-cp310-cp310-manylinux_2_17_x86_64.manylinux2014_x86_64.whl (12.3 MB)\n",
            "     ━━━━━━━━━━━━━━━━━━━━━━━━━━━━━━━━━━━━━━━━ 12.3/12.3 MB 82.1 MB/s eta 0:00:00\n",
            "Collecting cytoolz\n",
            "  Downloading cytoolz-0.12.1-cp310-cp310-manylinux_2_17_x86_64.manylinux2014_x86_64.whl (1.8 MB)\n",
            "     ━━━━━━━━━━━━━━━━━━━━━━━━━━━━━━━━━━━━━━━━ 1.8/1.8 MB 70.3 MB/s eta 0:00:00\n",
            "Collecting numpy>=1.9\n",
            "  Downloading numpy-1.24.3-cp310-cp310-manylinux_2_17_x86_64.manylinux2014_x86_64.whl (17.3 MB)\n",
            "     ━━━━━━━━━━━━━━━━━━━━━━━━━━━━━━━━━━━━━━━━ 17.3/17.3 MB 26.8 MB/s eta 0:00:00\n",
            "Collecting python-dateutil>=2.8.2\n",
            "  Downloading python_dateutil-2.8.2-py2.py3-none-any.whl (247 kB)\n",
            "     ━━━━━━━━━━━━━━━━━━━━━━━━━━━━━━━━━━━━━━ 247.7/247.7 kB 21.8 MB/s eta 0:00:00\n",
            "Collecting tzdata>=2022.1\n",
            "  Downloading tzdata-2023.3-py2.py3-none-any.whl (341 kB)\n",
            "     ━━━━━━━━━━━━━━━━━━━━━━━━━━━━━━━━━━━━━━ 341.8/341.8 kB 27.6 MB/s eta 0:00:00\n",
            "Collecting pytz>=2020.1\n",
            "  Downloading pytz-2023.3-py2.py3-none-any.whl (502 kB)\n",
            "     ━━━━━━━━━━━━━━━━━━━━━━━━━━━━━━━━━━━━━━ 502.3/502.3 kB 35.2 MB/s eta 0:00:00\n",
            "Requirement already satisfied: toolz>=0.8.0 in /usr/local/lib/python3.10/site-packages (from cytoolz->cooler) (0.12.0)\n",
            "Collecting dill>=0.3.6\n",
            "  Downloading dill-0.3.6-py3-none-any.whl (110 kB)\n",
            "     ━━━━━━━━━━━━━━━━━━━━━━━━━━━━━━━━━━━━━━ 110.5/110.5 kB 11.3 MB/s eta 0:00:00\n",
            "Collecting six\n",
            "  Downloading six-1.16.0-py2.py3-none-any.whl (11 kB)\n",
            "Requirement already satisfied: setuptools in /usr/local/lib/python3.10/site-packages (from pyfaidx->cooler) (65.6.3)\n",
            "Building wheels for collected packages: asciitree\n",
            "  Building wheel for asciitree (setup.py): started\n",
            "  Building wheel for asciitree (setup.py): finished with status 'done'\n",
            "  Created wheel for asciitree: filename=asciitree-0.3.3-py3-none-any.whl size=5034 sha256=96c025b4e34498b6015b8fe54af869f37712dd246ab8f610243bf6866a8706cf\n",
            "  Stored in directory: /root/.cache/pip/wheels/7f/4e/be/1171b40f43b918087657ec57cf3b81fa1a2e027d8755baa184\n",
            "Successfully built asciitree\n",
            "Installing collected packages: pytz, asciitree, tzdata, six, simplejson, pyyaml, numpy, dill, cytoolz, click, scipy, python-dateutil, pyfaidx, multiprocess, h5py, pandas, cooler\n",
            "Successfully installed asciitree-0.3.3 click-8.1.3 cooler-0.9.1 cytoolz-0.12.1 dill-0.3.6 h5py-3.8.0 multiprocess-0.70.14 numpy-1.24.3 pandas-2.0.1 pyfaidx-0.7.2.1 python-dateutil-2.8.2 pytz-2023.3 pyyaml-6.0 scipy-1.10.1 simplejson-3.19.1 six-1.16.0 tzdata-2023.3\n",
            "Looking in indexes: https://pypi.org/simple, https://us-python.pkg.dev/colab-wheels/public/simple/\n",
            "Collecting hicrep\n",
            "  Downloading hicrep-0.2.6.tar.gz (22 kB)\n",
            "  Preparing metadata (setup.py): started\n",
            "  Preparing metadata (setup.py): finished with status 'done'\n",
            "Collecting Deprecated\n",
            "  Downloading Deprecated-1.2.13-py2.py3-none-any.whl (9.6 kB)\n",
            "Requirement already satisfied: numpy>=1.17.0 in /usr/local/lib/python3.10/site-packages (from hicrep) (1.24.3)\n",
            "Requirement already satisfied: scipy in /usr/local/lib/python3.10/site-packages (from hicrep) (1.10.1)\n",
            "Requirement already satisfied: cooler in /usr/local/lib/python3.10/site-packages (from hicrep) (0.9.1)\n",
            "Requirement already satisfied: pandas in /usr/local/lib/python3.10/site-packages (from hicrep) (2.0.1)\n",
            "Requirement already satisfied: h5py in /usr/local/lib/python3.10/site-packages (from hicrep) (3.8.0)\n",
            "Requirement already satisfied: asciitree in /usr/local/lib/python3.10/site-packages (from cooler->hicrep) (0.3.3)\n",
            "Requirement already satisfied: pyfaidx in /usr/local/lib/python3.10/site-packages (from cooler->hicrep) (0.7.2.1)\n",
            "Requirement already satisfied: simplejson in /usr/local/lib/python3.10/site-packages (from cooler->hicrep) (3.19.1)\n",
            "Requirement already satisfied: cytoolz in /usr/local/lib/python3.10/site-packages (from cooler->hicrep) (0.12.1)\n",
            "Requirement already satisfied: click>=7 in /usr/local/lib/python3.10/site-packages (from cooler->hicrep) (8.1.3)\n",
            "Requirement already satisfied: pyyaml in /usr/local/lib/python3.10/site-packages (from cooler->hicrep) (6.0)\n",
            "Requirement already satisfied: multiprocess in /usr/local/lib/python3.10/site-packages (from cooler->hicrep) (0.70.14)\n",
            "Requirement already satisfied: pytz>=2020.1 in /usr/local/lib/python3.10/site-packages (from pandas->hicrep) (2023.3)\n",
            "Requirement already satisfied: python-dateutil>=2.8.2 in /usr/local/lib/python3.10/site-packages (from pandas->hicrep) (2.8.2)\n",
            "Requirement already satisfied: tzdata>=2022.1 in /usr/local/lib/python3.10/site-packages (from pandas->hicrep) (2023.3)\n",
            "Collecting wrapt<2,>=1.10\n",
            "  Downloading wrapt-1.15.0-cp310-cp310-manylinux_2_5_x86_64.manylinux1_x86_64.manylinux_2_17_x86_64.manylinux2014_x86_64.whl (78 kB)\n",
            "     ━━━━━━━━━━━━━━━━━━━━━━━━━━━━━━━━━━━━━━━━ 78.4/78.4 kB 3.7 MB/s eta 0:00:00\n",
            "Requirement already satisfied: six>=1.5 in /usr/local/lib/python3.10/site-packages (from python-dateutil>=2.8.2->pandas->hicrep) (1.16.0)\n",
            "Requirement already satisfied: toolz>=0.8.0 in /usr/local/lib/python3.10/site-packages (from cytoolz->cooler->hicrep) (0.12.0)\n",
            "Requirement already satisfied: dill>=0.3.6 in /usr/local/lib/python3.10/site-packages (from multiprocess->cooler->hicrep) (0.3.6)\n",
            "Requirement already satisfied: setuptools in /usr/local/lib/python3.10/site-packages (from pyfaidx->cooler->hicrep) (65.6.3)\n",
            "Building wheels for collected packages: hicrep\n",
            "  Building wheel for hicrep (setup.py): started\n",
            "  Building wheel for hicrep (setup.py): finished with status 'done'\n",
            "  Created wheel for hicrep: filename=hicrep-0.2.6-py3-none-any.whl size=34756 sha256=92311ca3c694dfde705ae013db00473e5f93d899e244b064c41b35e70c4cfb73\n",
            "  Stored in directory: /root/.cache/pip/wheels/21/75/06/6354db4851e5edd4899df43eded6240031885d7df3d5184d7a\n",
            "Successfully built hicrep\n",
            "Installing collected packages: wrapt, Deprecated, hicrep\n",
            "Successfully installed Deprecated-1.2.13 hicrep-0.2.6 wrapt-1.15.0\n"
          ]
        },
        {
          "output_type": "stream",
          "name": "stderr",
          "text": [
            "WARNING: Running pip as the 'root' user can result in broken permissions and conflicting behaviour with the system package manager. It is recommended to use a virtual environment instead: https://pip.pypa.io/warnings/venv\n",
            "WARNING: Running pip as the 'root' user can result in broken permissions and conflicting behaviour with the system package manager. It is recommended to use a virtual environment instead: https://pip.pypa.io/warnings/venv\n"
          ]
        }
      ]
    },
    {
      "cell_type": "code",
      "source": [
        "import matplotlib.pyplot as plt"
      ],
      "metadata": {
        "id": "iG0TD4Bn1fob"
      },
      "execution_count": 1,
      "outputs": []
    },
    {
      "cell_type": "code",
      "source": [
        "import cooler"
      ],
      "metadata": {
        "id": "cuRWerkAKrYK"
      },
      "execution_count": 2,
      "outputs": []
    },
    {
      "cell_type": "code",
      "source": [
        "import numpy as np"
      ],
      "metadata": {
        "id": "IRWfAgdaNqY4"
      },
      "execution_count": 3,
      "outputs": []
    },
    {
      "cell_type": "code",
      "source": [
        "from google.colab import drive\n",
        "drive.mount('/content/drive')"
      ],
      "metadata": {
        "colab": {
          "base_uri": "https://localhost:8080/"
        },
        "id": "yAYb9Fjtd2jM",
        "outputId": "475b1650-d2cf-4c6c-a722-5a2b1239facf"
      },
      "execution_count": 4,
      "outputs": [
        {
          "output_type": "stream",
          "name": "stdout",
          "text": [
            "Mounted at /content/drive\n"
          ]
        }
      ]
    },
    {
      "cell_type": "code",
      "source": [
        "import seaborn as sns\n",
        "import pandas as pd\n",
        "import hicrep\n",
        "from hicrep import hicrepSCC\n",
        "from hicrep.utils import readMcool"
      ],
      "metadata": {
        "id": "5e7bHb3Y0l68"
      },
      "execution_count": 5,
      "outputs": []
    },
    {
      "cell_type": "code",
      "source": [
        "mcool ='/content/drive/MyDrive/Копия HiC1.dm3.mapq_30.1000.mcool'\n"
      ],
      "metadata": {
        "id": "45gps2TTAtTg"
      },
      "execution_count": 6,
      "outputs": []
    },
    {
      "cell_type": "code",
      "source": [
        "resolution = 20000\n",
        "clr = cooler.Cooler(f'{mcool}::resolutions/{resolution}')"
      ],
      "metadata": {
        "id": "Sj3zYDXTiuxe"
      },
      "execution_count": 7,
      "outputs": []
    },
    {
      "cell_type": "markdown",
      "source": [
        "Tasks for seminar:   \n",
        "1) get info and attributes of Hi-C matrix with cooler.info  \n",
        "2) open cooler object as balanced matrix for intrachromosomal contacts   \n",
        "3) open cooler as unbalanced matrix for interchromosomal contacts  \n",
        "4) get table with coordinates and contacts, are they raw or balanced?  \n",
        "5) get the table in command line with command *cooler dump*  \n",
        "6) look at the table with bins, which columns present there?  \n",
        "7) plot a piece of map (log)  \n",
        "8) scaling plot  (in log - log coordinates)  \n",
        "9) replicates clusterization\n",
        "\n"
      ],
      "metadata": {
        "id": "U8rtlqHj7Kut"
      }
    },
    {
      "cell_type": "code",
      "source": [
        "clr.info"
      ],
      "metadata": {
        "colab": {
          "base_uri": "https://localhost:8080/"
        },
        "id": "bSDKA2rQftNI",
        "outputId": "de0cec38-ee4b-442f-cdb7-e91994fd51e4"
      },
      "execution_count": 8,
      "outputs": [
        {
          "output_type": "execute_result",
          "data": {
            "text/plain": [
              "{'bin-size': 20000,\n",
              " 'bin-type': 'fixed',\n",
              " 'creation-date': '2023-04-06T04:39:00.281457',\n",
              " 'format': 'HDF5::Cooler',\n",
              " 'format-url': 'https://github.com/open2c/cooler',\n",
              " 'format-version': 3,\n",
              " 'generated-by': 'cooler-0.8.11',\n",
              " 'genome-assembly': 'unknown',\n",
              " 'metadata': {},\n",
              " 'nbins': 6024,\n",
              " 'nchroms': 7,\n",
              " 'nnz': 7122786,\n",
              " 'storage-mode': 'symmetric-upper',\n",
              " 'sum': 63912926}"
            ]
          },
          "metadata": {},
          "execution_count": 8
        }
      ]
    },
    {
      "cell_type": "code",
      "source": [
        "m=clr.matrix(balance=True).fetch('chrX')"
      ],
      "metadata": {
        "id": "0bv3-eusKlKN"
      },
      "execution_count": 10,
      "outputs": []
    },
    {
      "cell_type": "code",
      "source": [
        "pix=clr.pixels(join=True)[:]"
      ],
      "metadata": {
        "id": "RglNL-7WMjSb"
      },
      "execution_count": 10,
      "outputs": []
    },
    {
      "cell_type": "code",
      "source": [
        "bins=clr.bins()[:]"
      ],
      "metadata": {
        "id": "eqOAvjUAMuZF"
      },
      "execution_count": 11,
      "outputs": []
    },
    {
      "cell_type": "code",
      "source": [
        "plt.imshow(np.log(m[120:180,120:180]),cmap='coolwarm')"
      ],
      "metadata": {
        "colab": {
          "base_uri": "https://localhost:8080/",
          "height": 484
        },
        "id": "Q87gspNCNMNJ",
        "outputId": "ca6414e8-e22f-4683-d287-0407b73c47b0"
      },
      "execution_count": 12,
      "outputs": [
        {
          "output_type": "stream",
          "name": "stderr",
          "text": [
            "<ipython-input-12-57c1b47ce89e>:1: RuntimeWarning: divide by zero encountered in log\n",
            "  plt.imshow(np.log(m[120:180,120:180]),cmap='coolwarm')\n"
          ]
        },
        {
          "output_type": "execute_result",
          "data": {
            "text/plain": [
              "<matplotlib.image.AxesImage at 0x7f34d46303a0>"
            ]
          },
          "metadata": {},
          "execution_count": 12
        },
        {
          "output_type": "display_data",
          "data": {
            "text/plain": [
              "<Figure size 640x480 with 1 Axes>"
            ],
            "image/png": "[encoded data removed]"
          },
          "metadata": {}
        }
      ]
    },
    {
      "cell_type": "code",
      "source": [
        "##!!! тут мы считаем среднее число взаимодействий участков находящихся на расстоянии i друг от друга тоесть среднее по i-ой диагонали\n",
        "z=np.zeros(len(m))\n",
        "for i in range(len(m)):\n",
        "  z[i]=np.nanmean(np.diagonal(m,i))"
      ],
      "metadata": {
        "colab": {
          "base_uri": "https://localhost:8080/"
        },
        "id": "8zHqczj8NnFP",
        "outputId": "d1272366-d71b-400f-8080-172e479e7f17"
      },
      "execution_count": 11,
      "outputs": [
        {
          "output_type": "stream",
          "name": "stderr",
          "text": [
            "<ipython-input-11-1d42a978bf5a>:4: RuntimeWarning: Mean of empty slice\n",
            "  z[i]=np.nanmean(np.diagonal(m,i))\n"
          ]
        }
      ]
    },
    {
      "cell_type": "code",
      "source": [
        "##!!! write comments for each row я не знаю что тут вообще можно комментировать \n",
        "##!!! why do we paste 20000 below? потому что в clr хранится информация о взаимодействии участков по 20000 нуклеотид\n",
        "plt.plot(np.arange(len(m))*20000,z)\n",
        "plt.xscale('log')\n",
        "plt.yscale('log')\n",
        "plt.xlabel('distance betwen  segments of DNA (nucleotides)')\n",
        "plt.ylabel('contacts frequency')"
      ],
      "metadata": {
        "colab": {
          "base_uri": "https://localhost:8080/",
          "height": 471
        },
        "id": "m24kzwmAOoNa",
        "outputId": "57dcb2ee-bac5-4e35-e530-1c6ca4ac79e1"
      },
      "execution_count": 14,
      "outputs": [
        {
          "output_type": "execute_result",
          "data": {
            "text/plain": [
              "Text(0, 0.5, 'contacts frequency')"
            ]
          },
          "metadata": {},
          "execution_count": 14
        },
        {
          "output_type": "display_data",
          "data": {
            "text/plain": [
              "<Figure size 640x480 with 1 Axes>"
            ],
            "image/png": "[encoded data removed]"
          },
          "metadata": {}
        }
      ]
    },
    {
      "cell_type": "markdown",
      "source": [
        "Replicates clusterization with stratum-adjusted correlation coefficient (scc)\n",
        "\n",
        "\n",
        "We have replicates for 2 *drosophila* cell lines: Bg3 and Kc167.  \n",
        "Bg3 - nervous cell line (HiC1...., HiC2... files)   \n",
        "Kc167 - embryonic cell line  (HiC3...., HiC4... files)  \n",
        "The aim is to conduct replicates clusterization, using scc and demonstrate  that replicates of same cell line tend to be closer to each other comparing with different cell types.    \n",
        "Hicrep can only calculate scc for each chromosome separately.  \n",
        "This is why you obtain several values with hicrepSCC function (run code below). The number of the values is equal to the number of chromosomes in cool file. So lets imagine, you take 2 mcool (or cool) files and decide to calculate scc between Hi-C matrices storing in these files only for chromosome 'chr2L', than for 'chr2R', etc. You will obtain as many scc as there are chromosomes in the Hi-C map. This is exactly what hicrepSCC function gives as an output. But then, to get single general scc value for 2 Hi-C maps (2 replicates) you should calculate average value of scc across all the chromosomes.   \n",
        "So you have an scc (averaged across chrs) for each pair of samples (HiC1-HiC2,HiC1-HiC3,HiC1-HiC4,HiC2-HiC3,HiC2-HiC4,HiC3-HiC4). Now you can use these values as the measure of similarity between each 2 samples and build a dendrogram.  \n",
        "To do this, you should construct symmetric matrix of similarity from calculated SCCs with ones on the diagonal.\n",
        "This matrix should be used as an input for 'linkage' function (see below)"
      ],
      "metadata": {
        "id": "7et5Shej9Bcm"
      }
    },
    {
      "cell_type": "code",
      "source": [
        "# Now calculate scc for each pair of samples, average across chromosomes and create matrix of similarity"
      ],
      "metadata": {
        "id": "b3ylTOLXlwke"
      },
      "execution_count": null,
      "outputs": []
    },
    {
      "cell_type": "code",
      "source": [
        "##!!! describe the next four parameter (as comments)\n",
        "binSize = 20000 \n",
        "#binSize - разрешение (взаимодействия участков какой длины у нас обозначают пиксели)\n",
        "dBPMax = 5000000 \n",
        "#dBPMax - максимальное учитываемое в рассчетах расстояние между нуклеотидами\n",
        "bDownSample = True\n",
        "#bDownSample - выравнивание 2 сравниваемых реплик до одинакового суммарного количества контактов\n",
        "h=0\n",
        "#h - коэффицент отвечающий за улучшение данных с помощью сглаживания, h = 0 без фильтра, чем больше h тем больше сглаживание\n",
        "\n",
        "fmcool = {}\n",
        "cool = {}\n",
        "binSizes = {}\n",
        "scc = np.empty((4,4))\n",
        "\n",
        "for i in range(4):\n",
        "  fmcool[i] = f'/content/drive/MyDrive/Копия HiC{i+1}.dm3.mapq_30.1000.mcool'\n",
        "  cool[i], binSizes[i] = readMcool(fmcool[i], binSize)\n",
        "\n",
        "for i in range(4):\n",
        "  for j in range(4):\n",
        "    d = hicrepSCC(cool[i], cool[j], h, dBPMax, bDownSample)\n",
        "    scc[i][j] = np.nanmean(d)\n",
        "\n",
        "# оно может ругаться но считает при этом правильно\n"
      ],
      "metadata": {
        "colab": {
          "base_uri": "https://localhost:8080/"
        },
        "id": "IEGZxslHHK2O",
        "outputId": "3aa63926-56d5-40be-e615-2fa7b543ad30"
      },
      "execution_count": 23,
      "outputs": [
        {
          "output_type": "stream",
          "name": "stderr",
          "text": [
            "/usr/local/lib/python3.10/site-packages/hicrep/hicrep.py:91: RuntimeWarning: invalid value encountered in double_scalars\n",
            "  return rhoNan2Zero @ wsNan2Zero / wsNan2Zero.sum()\n",
            "/usr/local/lib/python3.10/site-packages/hicrep/hicrep.py:91: RuntimeWarning: invalid value encountered in double_scalars\n",
            "  return rhoNan2Zero @ wsNan2Zero / wsNan2Zero.sum()\n",
            "/usr/local/lib/python3.10/site-packages/hicrep/hicrep.py:91: RuntimeWarning: invalid value encountered in double_scalars\n",
            "  return rhoNan2Zero @ wsNan2Zero / wsNan2Zero.sum()\n",
            "/usr/local/lib/python3.10/site-packages/hicrep/hicrep.py:91: RuntimeWarning: invalid value encountered in double_scalars\n",
            "  return rhoNan2Zero @ wsNan2Zero / wsNan2Zero.sum()\n",
            "/usr/local/lib/python3.10/site-packages/hicrep/hicrep.py:91: RuntimeWarning: invalid value encountered in double_scalars\n",
            "  return rhoNan2Zero @ wsNan2Zero / wsNan2Zero.sum()\n",
            "/usr/local/lib/python3.10/site-packages/hicrep/hicrep.py:91: RuntimeWarning: invalid value encountered in double_scalars\n",
            "  return rhoNan2Zero @ wsNan2Zero / wsNan2Zero.sum()\n",
            "/usr/local/lib/python3.10/site-packages/hicrep/hicrep.py:91: RuntimeWarning: invalid value encountered in double_scalars\n",
            "  return rhoNan2Zero @ wsNan2Zero / wsNan2Zero.sum()\n",
            "/usr/local/lib/python3.10/site-packages/hicrep/hicrep.py:91: RuntimeWarning: invalid value encountered in double_scalars\n",
            "  return rhoNan2Zero @ wsNan2Zero / wsNan2Zero.sum()\n",
            "/usr/local/lib/python3.10/site-packages/hicrep/hicrep.py:91: RuntimeWarning: invalid value encountered in double_scalars\n",
            "  return rhoNan2Zero @ wsNan2Zero / wsNan2Zero.sum()\n",
            "/usr/local/lib/python3.10/site-packages/hicrep/hicrep.py:91: RuntimeWarning: invalid value encountered in double_scalars\n",
            "  return rhoNan2Zero @ wsNan2Zero / wsNan2Zero.sum()\n",
            "/usr/local/lib/python3.10/site-packages/hicrep/hicrep.py:91: RuntimeWarning: invalid value encountered in double_scalars\n",
            "  return rhoNan2Zero @ wsNan2Zero / wsNan2Zero.sum()\n",
            "/usr/local/lib/python3.10/site-packages/hicrep/hicrep.py:91: RuntimeWarning: invalid value encountered in double_scalars\n",
            "  return rhoNan2Zero @ wsNan2Zero / wsNan2Zero.sum()\n",
            "/usr/local/lib/python3.10/site-packages/hicrep/hicrep.py:91: RuntimeWarning: invalid value encountered in double_scalars\n",
            "  return rhoNan2Zero @ wsNan2Zero / wsNan2Zero.sum()\n",
            "/usr/local/lib/python3.10/site-packages/hicrep/hicrep.py:91: RuntimeWarning: invalid value encountered in double_scalars\n",
            "  return rhoNan2Zero @ wsNan2Zero / wsNan2Zero.sum()\n",
            "/usr/local/lib/python3.10/site-packages/hicrep/hicrep.py:91: RuntimeWarning: invalid value encountered in double_scalars\n",
            "  return rhoNan2Zero @ wsNan2Zero / wsNan2Zero.sum()\n",
            "/usr/local/lib/python3.10/site-packages/hicrep/hicrep.py:91: RuntimeWarning: invalid value encountered in double_scalars\n",
            "  return rhoNan2Zero @ wsNan2Zero / wsNan2Zero.sum()\n"
          ]
        }
      ]
    },
    {
      "cell_type": "code",
      "source": [
        "scc "
      ],
      "metadata": {
        "colab": {
          "base_uri": "https://localhost:8080/"
        },
        "id": "eVfIOvEHsm51",
        "outputId": "27cabfc2-7e67-4554-ac03-295cccdb984c"
      },
      "execution_count": 24,
      "outputs": [
        {
          "output_type": "execute_result",
          "data": {
            "text/plain": [
              "array([[0.99973918, 0.67234713, 0.41766741, 0.39084177],\n",
              "       [0.67267269, 1.        , 0.42419555, 0.39545354],\n",
              "       [0.41916289, 0.42353271, 0.99974425, 0.65403424],\n",
              "       [0.39145297, 0.39317414, 0.65534652, 1.        ]])"
            ]
          },
          "metadata": {},
          "execution_count": 24
        }
      ]
    },
    {
      "cell_type": "code",
      "source": [
        "## A piece of code for the dendrogram generation\n",
        "import scipy\n",
        "\n",
        "Z=scipy.cluster.hierarchy.linkage(scc, 'single', 'correlation')\n",
        "plt.figure(figsize=(8,8))\n",
        "plt.ylabel('distance')\n",
        "\n",
        "scipy.cluster.hierarchy.dendrogram(Z, color_threshold=0,labels=['HiC1_Bg3', 'HiC2_Bg3', 'HiC3_Kc167', 'HiC4_Kc167'])\n",
        "\n"
      ],
      "metadata": {
        "id": "0k9wmWd-cPCE",
        "colab": {
          "base_uri": "https://localhost:8080/",
          "height": 906
        },
        "outputId": "641d2a66-0603-4fea-ddc2-f0621c4ae1e3"
      },
      "execution_count": 37,
      "outputs": [
        {
          "output_type": "execute_result",
          "data": {
            "text/plain": [
              "{'icoord': [[5.0, 5.0, 15.0, 15.0],\n",
              "  [25.0, 25.0, 35.0, 35.0],\n",
              "  [10.0, 10.0, 30.0, 30.0]],\n",
              " 'dcoord': [[0.0, 0.45003321568696664, 0.45003321568696664, 0.0],\n",
              "  [0.0, 0.5048443998502018, 0.5048443998502018, 0.0],\n",
              "  [0.45003321568696664,\n",
              "   1.7273567353903223,\n",
              "   1.7273567353903223,\n",
              "   0.5048443998502018]],\n",
              " 'ivl': ['HiC1_Bg3', 'HiC2_Bg3', 'HiC3_Kc167', 'HiC4_Kc167'],\n",
              " 'leaves': [0, 1, 2, 3],\n",
              " 'color_list': ['C0', 'C0', 'C0'],\n",
              " 'leaves_color_list': ['C0', 'C0', 'C0', 'C0']}"
            ]
          },
          "metadata": {},
          "execution_count": 37
        },
        {
          "output_type": "display_data",
          "data": {
            "text/plain": [
              "<Figure size 800x800 with 1 Axes>"
            ],
            "image/png": "[encoded data removed]"
          },
          "metadata": {}
        }
      ]
    }
  ]
}